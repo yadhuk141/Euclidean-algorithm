{
 "cells": [
  {
   "cell_type": "code",
   "execution_count": 10,
   "metadata": {},
   "outputs": [
    {
     "name": "stdout",
     "output_type": "stream",
     "text": [
      "Enter first number: 256\n",
      "Enter second number: 125\n",
      "(21, -43)\n"
     ]
    }
   ],
   "source": [
    "def EuclidAlg(a,b):\n",
    "    if a == 0:\n",
    "        return 0, 1\n",
    "    u, v = extendedEuclideanAlgorithm(b % a, a)\n",
    "    x = v - (b // a ) * u\n",
    "    y = u\n",
    "    return x, y\n",
    "a=int(input(\"Enter first number: \"))\n",
    "b=int(input(\"Enter second number: \"))\n",
    "print(EuclidAlg(a,b))"
   ]
  },
  {
   "cell_type": "code",
   "execution_count": null,
   "metadata": {},
   "outputs": [],
   "source": []
  }
 ],
 "metadata": {
  "kernelspec": {
   "display_name": "Python 3",
   "language": "python",
   "name": "python3"
  },
  "language_info": {
   "codemirror_mode": {
    "name": "ipython",
    "version": 3
   },
   "file_extension": ".py",
   "mimetype": "text/x-python",
   "name": "python",
   "nbconvert_exporter": "python",
   "pygments_lexer": "ipython3",
   "version": "3.7.7"
  }
 },
 "nbformat": 4,
 "nbformat_minor": 4
}
