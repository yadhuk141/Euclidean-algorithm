{
 "cells": [
  {
   "cell_type": "code",
   "execution_count": 9,
   "id": "4abe5d57",
   "metadata": {},
   "outputs": [
    {
     "name": "stdout",
     "output_type": "stream",
     "text": [
      "Enter first number: 256\n",
      "Enter second number: 125\n",
      "\n",
      "256 = 125 * 2 + 6\n",
      "125 = 6 * 20 + 5\n",
      "6 = 5 * 1 + 1\n",
      "5 = 1 * 5 + 0\n",
      "GCD= 1\n"
     ]
    }
   ],
   "source": [
    "a=int(input(\"Enter first number: \"))\n",
    "b=int(input(\"Enter second number: \"))\n",
    "print()\n",
    "flag=False\n",
    "if b>a:\n",
    "    t=a\n",
    "    a=b\n",
    "    b=t\n",
    "while(flag is False):\n",
    "    r=a%b\n",
    "    q=a//b\n",
    "    print(a,\"=\",b,\"*\",q,\"+\",r)\n",
    "    if r==0:\n",
    "        flag=True\n",
    "    else:\n",
    "        a=b\n",
    "        b=r\n",
    "print(\"GCD=\",b)\n"
   ]
  },
  {
   "cell_type": "code",
   "execution_count": null,
   "id": "5c027c05",
   "metadata": {},
   "outputs": [],
   "source": []
  },
  {
   "cell_type": "code",
   "execution_count": null,
   "id": "2cb4d10e",
   "metadata": {},
   "outputs": [],
   "source": []
  }
 ],
 "metadata": {
  "kernelspec": {
   "display_name": "Python 3 (ipykernel)",
   "language": "python",
   "name": "python3"
  },
  "language_info": {
   "codemirror_mode": {
    "name": "ipython",
    "version": 3
   },
   "file_extension": ".py",
   "mimetype": "text/x-python",
   "name": "python",
   "nbconvert_exporter": "python",
   "pygments_lexer": "ipython3",
   "version": "3.9.7"
  }
 },
 "nbformat": 4,
 "nbformat_minor": 5
}
